{
 "cells": [
  {
   "cell_type": "code",
   "execution_count": 22,
   "id": "baa4379e",
   "metadata": {},
   "outputs": [],
   "source": [
    "import selenium"
   ]
  },
  {
   "cell_type": "code",
   "execution_count": 23,
   "id": "c10b0d1d",
   "metadata": {},
   "outputs": [],
   "source": [
    "from selenium import webdriver"
   ]
  },
  {
   "cell_type": "code",
   "execution_count": 24,
   "id": "c6ac0289",
   "metadata": {},
   "outputs": [],
   "source": [
    "browser=webdriver.Chrome(executable_path='C:\\\\Users\\\\Dell\\\\Downloads\\\\chromedriver_win32\\\\chromedriver.exe')"
   ]
  },
  {
   "cell_type": "code",
   "execution_count": 25,
   "id": "f1f411c0",
   "metadata": {},
   "outputs": [],
   "source": [
    "browser.get('https://codeforces.com/')"
   ]
  },
  {
   "cell_type": "code",
   "execution_count": 26,
   "id": "74ca422f",
   "metadata": {},
   "outputs": [],
   "source": [
    "browser.get('https://codeforces.com/enter?back=%2F')"
   ]
  },
  {
   "cell_type": "code",
   "execution_count": 27,
   "id": "a6d27d9d",
   "metadata": {},
   "outputs": [],
   "source": [
    "emailID=browser.find_element_by_id(\"handleOrEmail\")"
   ]
  },
  {
   "cell_type": "code",
   "execution_count": 28,
   "id": "83f94965",
   "metadata": {},
   "outputs": [],
   "source": [
    "emailID.send_keys('punitsehrawat423@gmail.com')"
   ]
  },
  {
   "cell_type": "code",
   "execution_count": 29,
   "id": "3a2e56b7",
   "metadata": {},
   "outputs": [],
   "source": [
    "password=browser.find_element_by_id('password')"
   ]
  },
  {
   "cell_type": "code",
   "execution_count": 31,
   "id": "c0317b90",
   "metadata": {},
   "outputs": [
    {
     "name": "stdout",
     "output_type": "stream",
     "text": [
      "Enter pass ········\n"
     ]
    }
   ],
   "source": [
    "from getpass import getpass\n",
    "\n",
    "psw=getpass(\"Enter pass \")"
   ]
  },
  {
   "cell_type": "code",
   "execution_count": 32,
   "id": "4307c8dc",
   "metadata": {},
   "outputs": [],
   "source": [
    "password.send_keys(psw)"
   ]
  },
  {
   "cell_type": "code",
   "execution_count": 33,
   "id": "efe8d97d",
   "metadata": {},
   "outputs": [],
   "source": [
    "browser.find_element_by_class_name('submit').click()"
   ]
  },
  {
   "cell_type": "code",
   "execution_count": 34,
   "id": "edf93d91",
   "metadata": {},
   "outputs": [],
   "source": [
    "browser.get('https://codeforces.com/contest/1530/submit')"
   ]
  },
  {
   "cell_type": "code",
   "execution_count": 13,
   "id": "e01e2b6e",
   "metadata": {},
   "outputs": [],
   "source": [
    "selectproblem=browser.find_element_by_name('submittedProblemIndex')"
   ]
  },
  {
   "cell_type": "code",
   "execution_count": 14,
   "id": "6ffa088e",
   "metadata": {},
   "outputs": [],
   "source": [
    "selectproblem.send_keys(\"A\")"
   ]
  },
  {
   "cell_type": "code",
   "execution_count": 15,
   "id": "eead10fc",
   "metadata": {},
   "outputs": [],
   "source": [
    "with open(\"codeforce.txt\",'r') as f:\n",
    "    code=f.read()"
   ]
  },
  {
   "cell_type": "code",
   "execution_count": 16,
   "id": "71626bda",
   "metadata": {},
   "outputs": [
    {
     "data": {
      "text/plain": [
       "'#include<bits/stdc++.h>\\nusing namespace std;\\n \\nint main()\\n{\\n    int t;\\n    cin>>t;\\n    while(t--)\\n    {\\n        string s;\\n        cin>>s;\\n \\n        int l=s.length();\\n        int ans=1;\\n \\n        for(int i=0;i<l;i++)\\n        {\\n            int x=int(s[i])-48;\\n            ans=max(ans,x);\\n        }\\n \\n        cout<<ans<<endl;\\n \\n \\n \\n \\n \\n    }\\n}'"
      ]
     },
     "execution_count": 16,
     "metadata": {},
     "output_type": "execute_result"
    }
   ],
   "source": [
    "code"
   ]
  },
  {
   "cell_type": "code",
   "execution_count": 17,
   "id": "f6bce622",
   "metadata": {},
   "outputs": [],
   "source": [
    "code_element=browser.find_element_by_id(\"sourceCodeTextarea\")"
   ]
  },
  {
   "cell_type": "code",
   "execution_count": 18,
   "id": "32997f66",
   "metadata": {},
   "outputs": [],
   "source": [
    "code_element.send_keys(code)"
   ]
  },
  {
   "cell_type": "code",
   "execution_count": 19,
   "id": "6e9e9861",
   "metadata": {},
   "outputs": [],
   "source": [
    "browser.find_element_by_class_name('submit').click()"
   ]
  },
  {
   "cell_type": "code",
   "execution_count": null,
   "id": "2eb552ea",
   "metadata": {},
   "outputs": [],
   "source": []
  }
 ],
 "metadata": {
  "kernelspec": {
   "display_name": "Python 3",
   "language": "python",
   "name": "python3"
  },
  "language_info": {
   "codemirror_mode": {
    "name": "ipython",
    "version": 3
   },
   "file_extension": ".py",
   "mimetype": "text/x-python",
   "name": "python",
   "nbconvert_exporter": "python",
   "pygments_lexer": "ipython3",
   "version": "3.8.8"
  }
 },
 "nbformat": 4,
 "nbformat_minor": 5
}
