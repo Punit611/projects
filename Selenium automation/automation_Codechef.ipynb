{
 "cells": [
  {
   "cell_type": "code",
   "execution_count": 190,
   "id": "ed186cbd",
   "metadata": {},
   "outputs": [],
   "source": [
    "import selenium"
   ]
  },
  {
   "cell_type": "code",
   "execution_count": 191,
   "id": "36097bd8",
   "metadata": {},
   "outputs": [],
   "source": [
    "from selenium import webdriver"
   ]
  },
  {
   "cell_type": "code",
   "execution_count": 192,
   "id": "afecd1c6",
   "metadata": {},
   "outputs": [],
   "source": [
    "browser=webdriver.Chrome(executable_path='C:\\\\Users\\\\Dell\\\\Downloads\\\\chromedriver_win32\\\\chromedriver.exe')"
   ]
  },
  {
   "cell_type": "code",
   "execution_count": 203,
   "id": "ab5f92a1",
   "metadata": {},
   "outputs": [],
   "source": [
    "browser.get(\"https://codechef.com\")"
   ]
  },
  {
   "cell_type": "code",
   "execution_count": 204,
   "id": "c7b53c7d",
   "metadata": {},
   "outputs": [],
   "source": [
    "username_element=browser.find_element_by_id(\"edit-name\")"
   ]
  },
  {
   "cell_type": "code",
   "execution_count": 205,
   "id": "6141448e",
   "metadata": {},
   "outputs": [],
   "source": [
    "username_element.send_keys(\"punit_0611\")"
   ]
  },
  {
   "cell_type": "code",
   "execution_count": 206,
   "id": "66da3cd9",
   "metadata": {},
   "outputs": [],
   "source": [
    "password_element=browser.find_element_by_id(\"edit-pass\")"
   ]
  },
  {
   "cell_type": "code",
   "execution_count": 207,
   "id": "2a3256a3",
   "metadata": {},
   "outputs": [
    {
     "name": "stdout",
     "output_type": "stream",
     "text": [
      "Enter password ········\n"
     ]
    }
   ],
   "source": [
    "from getpass import getpass\n",
    "\n",
    "psw=getpass(\"Enter password \")"
   ]
  },
  {
   "cell_type": "code",
   "execution_count": 208,
   "id": "48085b36",
   "metadata": {},
   "outputs": [],
   "source": [
    "password_element.send_keys(psw)"
   ]
  },
  {
   "cell_type": "code",
   "execution_count": 209,
   "id": "52f9ac12",
   "metadata": {},
   "outputs": [],
   "source": [
    "browser.find_element_by_id(\"edit-submit\").click()"
   ]
  },
  {
   "cell_type": "code",
   "execution_count": 210,
   "id": "a65abbf5",
   "metadata": {},
   "outputs": [],
   "source": [
    "browser.get(\"https://www.codechef.com/submit/LUNCHTIM\")"
   ]
  },
  {
   "cell_type": "code",
   "execution_count": 213,
   "id": "2bdc06b8",
   "metadata": {},
   "outputs": [],
   "source": [
    "browser.find_element_by_class_name(\"toggle_edit-program\").click()"
   ]
  },
  {
   "cell_type": "code",
   "execution_count": 219,
   "id": "b40b20a6",
   "metadata": {},
   "outputs": [],
   "source": [
    "#select language\n",
    "\n",
    "browser.find_element_by_xpath('//*[@id=\"edit-language\"]/option[1]').click()\n",
    "\n"
   ]
  },
  {
   "cell_type": "code",
   "execution_count": 220,
   "id": "39fdf2ea",
   "metadata": {},
   "outputs": [],
   "source": [
    "code_element=browser.find_element_by_id(\"edit-program\")"
   ]
  },
  {
   "cell_type": "code",
   "execution_count": 221,
   "id": "3fa00d31",
   "metadata": {},
   "outputs": [],
   "source": [
    "with open('text.txt','r') as f:\n",
    "    code=f.read()\n"
   ]
  },
  {
   "cell_type": "code",
   "execution_count": 222,
   "id": "74911b82",
   "metadata": {},
   "outputs": [
    {
     "data": {
      "text/plain": [
       "'#include<bits/stdc++.h>\\nusing namespace std;\\n\\nint main()\\n{\\n    long long int t;\\n    cin>>t;\\n    while(t--)\\n    {\\n        long long int n;\\n        cin>>n;\\n        long long int arr[n],sol[n];\\n\\n        for(long long int i=0;i<n;i++)\\n            cin>>arr[i];\\n        \\n        for(long long int i=0;i<n;i++)\\n        {\\n            long long int c=0;\\n            long long int j=i+1;\\n            \\n            if(i>0)\\n            {\\n                if(arr[i]==arr[i-1])\\n                    c=sol[i-1];\\n                else\\n                {\\n                    while(j<n && arr[j]<=arr[i])\\n                    {\\n                        if(arr[i]==arr[j])\\n                        {\\n                            c++;\\n                        }\\n                        j++;\\n                    }\\n                    \\n                    j=i-1;\\n                    \\n                    while(j>=0 && arr[j]<=arr[i])\\n                    {\\n                        if(arr[i]==arr[j])\\n                        {\\n                            c++;\\n                        }\\n                        j--;\\n                    }\\n\\n                }\\n            }\\n            else\\n            {\\n                while(j<n && arr[j]<=arr[i])\\n                {\\n                    if(arr[i]==arr[j])\\n                    {\\n                        c++;\\n                    }\\n                    j++;\\n                }\\n                \\n                j=i-1;\\n                \\n                while(j>=0 && arr[j]<=arr[i])\\n                {\\n                    if(arr[i]==arr[j])\\n                    {\\n                        c++;\\n                    }\\n                    j--;\\n                }\\n\\n            }\\n            \\n            \\n            sol[i]=c;\\n        }\\n\\n        for(long long int i=0;i<n;i++)\\n        {\\n            cout<<sol[i]<<\" \";\\n        }\\n        cout<<endl;\\n    }\\n}'"
      ]
     },
     "execution_count": 222,
     "metadata": {},
     "output_type": "execute_result"
    }
   ],
   "source": [
    "code"
   ]
  },
  {
   "cell_type": "code",
   "execution_count": 223,
   "id": "91644d6c",
   "metadata": {},
   "outputs": [],
   "source": [
    "code_element.send_keys(code)"
   ]
  },
  {
   "cell_type": "code",
   "execution_count": 226,
   "id": "fa4fd63c",
   "metadata": {},
   "outputs": [],
   "source": [
    "browser.find_element_by_id(\"edit-submit-1\").click()"
   ]
  },
  {
   "cell_type": "code",
   "execution_count": null,
   "id": "bf4374f4",
   "metadata": {},
   "outputs": [],
   "source": []
  },
  {
   "cell_type": "code",
   "execution_count": null,
   "id": "5f16a2cb",
   "metadata": {},
   "outputs": [],
   "source": []
  },
  {
   "cell_type": "code",
   "execution_count": null,
   "id": "c552f338",
   "metadata": {},
   "outputs": [],
   "source": []
  },
  {
   "cell_type": "code",
   "execution_count": null,
   "id": "9b1a92c3",
   "metadata": {},
   "outputs": [],
   "source": []
  }
 ],
 "metadata": {
  "kernelspec": {
   "display_name": "Python 3",
   "language": "python",
   "name": "python3"
  },
  "language_info": {
   "codemirror_mode": {
    "name": "ipython",
    "version": 3
   },
   "file_extension": ".py",
   "mimetype": "text/x-python",
   "name": "python",
   "nbconvert_exporter": "python",
   "pygments_lexer": "ipython3",
   "version": "3.8.8"
  }
 },
 "nbformat": 4,
 "nbformat_minor": 5
}
