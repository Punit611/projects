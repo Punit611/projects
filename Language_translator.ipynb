{
  "cells": [
    {
      "cell_type": "code",
      "execution_count": null,
      "metadata": {
        "id": "-m-EDVJkIfF2"
      },
      "outputs": [],
      "source": [
        "time=0\n",
        "import requests\n",
        "\n",
        "class MyMemoryProvider():\n",
        "    base_url = 'http://api.mymemory.translated.net/get'\n",
        "\n",
        "    def __init__(self,to_lang,from_lang):\n",
        "        self.to_lang=to_lang\n",
        "        self.from_lang=from_lang\n",
        "        self.languages = '{}|{}'.format(self.from_lang, self.to_lang)\n",
        "        \n",
        "        \n",
        "    def _make_request(self, text):\n",
        "        params = {'q': text, 'langpair': self.languages}\n",
        "        \n",
        "        response = requests.get(self.base_url, params=params)\n",
        "        return response.json()\n",
        "\n",
        "    def get_translation(self, text):\n",
        "        #print(\" hello\",text)\n",
        "        data = self._make_request(text)\n",
        "\n",
        "        translation = data['responseData']['translatedText']\n",
        "        if translation:\n",
        "            return translation\n",
        "        else:\n",
        "            matches = data['matches']\n",
        "            next_best_match = next(match for match in matches)\n",
        "            return next_best_match['translation']\n"
      ]
    },
    {
      "cell_type": "code",
      "execution_count": null,
      "metadata": {
        "id": "z-7kuVf0IgF6"
      },
      "outputs": [],
      "source": [
        "class Translator:\n",
        "    def __init__(self, to_lang, from_lang='en'):\n",
        "        self.from_lang = from_lang\n",
        "        self.to_lang = to_lang\n",
        "        \n",
        "\n",
        "    def translate(self, text):\n",
        "        if self.from_lang == self.to_lang:\n",
        "            return text\n",
        "\n",
        "        memory=MyMemoryProvider(self.to_lang,self.from_lang)\n",
        "        string_lang=\"\"\n",
        "        string_lang+=memory.get_translation(text)\n",
        "            #print(string_lang)\n",
        "        #print(string_lang)\n",
        "        return string_lang\n",
        "        "
      ]
    },
    {
      "cell_type": "code",
      "execution_count": null,
      "metadata": {
        "colab": {
          "base_uri": "https://localhost:8080/"
        },
        "id": "HSjFm1ndIkzJ",
        "outputId": "dfaa3bad-e145-4d90-8ea5-382140cf4597"
      },
      "outputs": [
        {
          "name": "stdout",
          "output_type": "stream",
          "text": [
            "Enter 0 for stop 1 for translation :- 0\n"
          ]
        }
      ],
      "source": [
        "check=int(input(\"Enter 0 for stop 1 for translation :- \"))\n",
        "\n",
        "\n",
        "while check==1:\n",
        "  language=input(\"Enter in which language you want to change your text :- \")\n",
        "  text=input(\"Enter your text :- \")\n",
        "  text=\"Your answer :- \"+text\n",
        "  translator =Translator(to_lang=language)\n",
        "  translation=translator.translate(text)\n",
        "  time+=1\n",
        "  print(time ,translation)\n",
        "\n",
        "  check=int(input(\"Enter 0 for stop 1 for continue :- \"))\n",
        "\n",
        "\n"
      ]
    },
    {
      "cell_type": "code",
      "execution_count": null,
      "metadata": {
        "id": "DvUYkJZWUUWN"
      },
      "outputs": [],
      "source": [
        ""
      ]
    }
  ],
  "metadata": {
    "colab": {
      "name": "cloud_translator.ipynb",
      "provenance": []
    },
    "kernelspec": {
      "display_name": "Python 3",
      "name": "python3"
    },
    "language_info": {
      "name": "python"
    }
  },
  "nbformat": 4,
  "nbformat_minor": 0
}