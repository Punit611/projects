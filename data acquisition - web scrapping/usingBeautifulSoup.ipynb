{
 "metadata": {
  "language_info": {
   "codemirror_mode": {
    "name": "ipython",
    "version": 3
   },
   "file_extension": ".py",
   "mimetype": "text/x-python",
   "name": "python",
   "nbconvert_exporter": "python",
   "pygments_lexer": "ipython3",
   "version": "3.7.3"
  },
  "orig_nbformat": 2,
  "kernelspec": {
   "name": "python373jvsc74a57bd0c8786e068652b7f12a3e1bf2aa2bbfcb04eb64ab636cba77baf09f1ee5420691",
   "display_name": "Python 3.7.3 64-bit ('base': conda)"
  }
 },
 "nbformat": 4,
 "nbformat_minor": 2,
 "cells": [
  {
   "cell_type": "code",
   "execution_count": 1,
   "metadata": {},
   "outputs": [],
   "source": [
    "from bs4 import BeautifulSoup as soup\n",
    "from urllib.request import urlopen "
   ]
  },
  {
   "cell_type": "code",
   "execution_count": 2,
   "metadata": {},
   "outputs": [],
   "source": [
    "android_url=\"https://en.wikipedia.org/wiki/Android_version_history#:~:text=The%20version%20history%20of%20the,released%20on%20September%2023%2C%202008.\""
   ]
  },
  {
   "cell_type": "code",
   "execution_count": 3,
   "metadata": {},
   "outputs": [],
   "source": [
    "android_data=urlopen(android_url)"
   ]
  },
  {
   "cell_type": "code",
   "execution_count": 4,
   "metadata": {},
   "outputs": [],
   "source": [
    "android_html=android_data.read()\n"
   ]
  },
  {
   "cell_type": "code",
   "execution_count": 5,
   "metadata": {
    "tags": [
     "outputPrepend"
    ]
   },
   "outputs": [
    {
     "output_type": "stream",
     "name": "stdout",
     "text": [
      "areAlike License</a><a href=\"//creativecommons.org/licenses/by-sa/3.0/\" rel=\"license\" style=\"display:none;\"></a>;\nadditional terms may apply.  By using this site, you agree to the <a href=\"//foundation.wikimedia.org/wiki/Terms_of_Use\">Terms of Use</a> and <a href=\"//foundation.wikimedia.org/wiki/Privacy_policy\">Privacy Policy</a>. Wikipedia® is a registered trademark of the <a href=\"//www.wikimediafoundation.org/\">Wikimedia Foundation, Inc.</a>, a non-profit organization.</li>\n</ul>\n<ul id=\"footer-places\">\n<li id=\"footer-places-privacy\"><a class=\"extiw\" href=\"https://foundation.wikimedia.org/wiki/Privacy_policy\" title=\"wmf:Privacy policy\">Privacy policy</a></li>\n<li id=\"footer-places-about\"><a href=\"/wiki/Wikipedia:About\" title=\"Wikipedia:About\">About Wikipedia</a></li>\n<li id=\"footer-places-disclaimer\"><a href=\"/wiki/Wikipedia:General_disclaimer\" title=\"Wikipedia:General disclaimer\">Disclaimers</a></li>\n<li id=\"footer-places-contact\"><a href=\"//en.wikipedia.org/wiki/Wikipedia:Contact_us\">Contact Wikipedia</a></li>\n<li id=\"footer-places-mobileview\"><a class=\"noprint stopMobileRedirectToggle\" href=\"//en.m.wikipedia.org/w/index.php?title=Android_version_history&amp;mobileaction=toggle_view_mobile\">Mobile view</a></li>\n<li id=\"footer-places-developers\"><a href=\"https://www.mediawiki.org/wiki/Special:MyLanguage/How_to_contribute\">Developers</a></li>\n<li id=\"footer-places-statslink\"><a href=\"https://stats.wikimedia.org/#/en.wikipedia.org\">Statistics</a></li>\n<li id=\"footer-places-cookiestatement\"><a href=\"https://foundation.wikimedia.org/wiki/Cookie_statement\">Cookie statement</a></li>\n</ul>\n<ul class=\"noprint\" id=\"footer-icons\">\n<li id=\"footer-copyrightico\"><a href=\"https://wikimediafoundation.org/\"><img alt=\"Wikimedia Foundation\" height=\"31\" loading=\"lazy\" src=\"/static/images/footer/wikimedia-button.png\" srcset=\"/static/images/footer/wikimedia-button-1.5x.png 1.5x, /static/images/footer/wikimedia-button-2x.png 2x\" width=\"88\"/></a></li>\n<li id=\"footer-poweredbyico\"><a href=\"https://www.mediawiki.org/\"><img alt=\"Powered by MediaWiki\" height=\"31\" loading=\"lazy\" src=\"/static/images/footer/poweredby_mediawiki_88x31.png\" srcset=\"/static/images/footer/poweredby_mediawiki_132x47.png 1.5x, /static/images/footer/poweredby_mediawiki_176x62.png 2x\" width=\"88\"/></a></li>\n</ul>\n</footer>\n<script>(RLQ=window.RLQ||[]).push(function(){mw.config.set({\"wgPageParseReport\":{\"limitreport\":{\"cputime\":\"2.504\",\"walltime\":\"2.744\",\"ppvisitednodes\":{\"value\":15274,\"limit\":1000000},\"postexpandincludesize\":{\"value\":761151,\"limit\":2097152},\"templateargumentsize\":{\"value\":122511,\"limit\":2097152},\"expansiondepth\":{\"value\":16,\"limit\":40},\"expensivefunctioncount\":{\"value\":6,\"limit\":500},\"unstrip-depth\":{\"value\":1,\"limit\":20},\"unstrip-size\":{\"value\":888262,\"limit\":5000000},\"entityaccesscount\":{\"value\":1,\"limit\":400},\"timingprofile\":[\"100.00% 2181.956      1 -total\",\" 61.69% 1346.038      3 Template:Reflist\",\" 44.49%  970.830    244 Template:Cite_web\",\" 14.51%  316.623     31 Template:Android_version_table\",\" 11.99%  261.652     64 Template:Android_version\",\"  7.58%  165.501      9 Template:Navbox\",\"  4.90%  106.823     26 Template:Cite_news\",\"  3.89%   84.792      1 Template:Short_description\",\"  3.75%   81.740      1 Template:Android\",\"  2.90%   63.341      1 Template:Fact\"]},\"scribunto\":{\"limitreport-timeusage\":{\"value\":\"1.224\",\"limit\":\"10.000\"},\"limitreport-memusage\":{\"value\":8018099,\"limit\":52428800},\"limitreport-logs\":\"table#1 {\\n}\\ntable#1 {\\n}\\n\",\"limitreport-profile\":[[\"Scribunto_LuaSandboxCallback::match\",\"180\",\"14.8\"],[\"Scribunto_LuaSandboxCallback::gsub\",\"180\",\"14.8\"],[\"?\",\"140\",\"11.5\"],[\"Scribunto_LuaSandboxCallback::callParserFunction\",\"120\",\"9.8\"],[\"dataWrapper \\u003Cmw.lua:668\\u003E\",\"100\",\"8.2\"],[\"Scribunto_LuaSandboxCallback::getExpandedArgument\",\"80\",\"6.6\"],[\"(for generator)\",\"60\",\"4.9\"],[\"recursiveClone \\u003CmwInit.lua:41\\u003E\",\"60\",\"4.9\"],[\"init \\u003CModule:Citation/CS1/Date_validation\\u003E\",\"40\",\"3.3\"],[\"build_id_list \\u003CModule:Citation/CS1/Identifiers:1516\\u003E\",\"40\",\"3.3\"],[\"[others]\",\"220\",\"18.0\"]]},\"cachereport\":{\"origin\":\"mw1390\",\"timestamp\":\"20210526133009\",\"ttl\":1814400,\"transientcontent\":false}}});});</script>\n<script type=\"application/ld+json\">{\"@context\":\"https:\\/\\/schema.org\",\"@type\":\"Article\",\"name\":\"Android version history\",\"url\":\"https:\\/\\/en.wikipedia.org\\/wiki\\/Android_version_history\",\"sameAs\":\"http:\\/\\/www.wikidata.org\\/entity\\/Q79611\",\"mainEntity\":\"http:\\/\\/www.wikidata.org\\/entity\\/Q79611\",\"author\":{\"@type\":\"Organization\",\"name\":\"Contributors to Wikimedia projects\"},\"publisher\":{\"@type\":\"Organization\",\"name\":\"Wikimedia Foundation, Inc.\",\"logo\":{\"@type\":\"ImageObject\",\"url\":\"https:\\/\\/www.wikimedia.org\\/static\\/images\\/wmf-hor-googpub.png\"}},\"datePublished\":\"2011-02-05T00:09:38Z\",\"dateModified\":\"2021-05-26T13:30:03Z\",\"headline\":\"Wikimedia list article\"}</script>\n<script>(RLQ=window.RLQ||[]).push(function(){mw.config.set({\"wgBackendResponseTime\":158,\"wgHostname\":\"mw1385\"});});</script>\n</body></html>\n"
     ]
    }
   ],
   "source": [
    "android_soup=soup(android_html,\"html.parser\")\n",
    "print(android_soup)"
   ]
  },
  {
   "cell_type": "code",
   "execution_count": 6,
   "metadata": {},
   "outputs": [
    {
     "output_type": "execute_result",
     "data": {
      "text/plain": [
       "<h1 class=\"firstHeading\" id=\"firstHeading\">Android version history</h1>"
      ]
     },
     "metadata": {},
     "execution_count": 6
    }
   ],
   "source": [
    "android_soup.h1"
   ]
  },
  {
   "cell_type": "code",
   "execution_count": 7,
   "metadata": {},
   "outputs": [
    {
     "output_type": "execute_result",
     "data": {
      "text/plain": [
       "<meta charset=\"utf-8\"/>"
      ]
     },
     "metadata": {},
     "execution_count": 7
    }
   ],
   "source": [
    "android_soup.meta"
   ]
  },
  {
   "cell_type": "code",
   "execution_count": 8,
   "metadata": {},
   "outputs": [
    {
     "output_type": "execute_result",
     "data": {
      "text/plain": [
       "[<h1 class=\"firstHeading\" id=\"firstHeading\">Android version history</h1>]"
      ]
     },
     "metadata": {},
     "execution_count": 8
    }
   ],
   "source": [
    "android_soup.find_all(\"h1\")"
   ]
  },
  {
   "cell_type": "code",
   "execution_count": 9,
   "metadata": {},
   "outputs": [
    {
     "output_type": "execute_result",
     "data": {
      "text/plain": [
       "[<h2 id=\"mw-toc-heading\">Contents</h2>,\n",
       " <h2><span class=\"mw-headline\" id=\"Overview\">Overview</span><span class=\"mw-editsection\"><span class=\"mw-editsection-bracket\">[</span><a href=\"/w/index.php?title=Android_version_history&amp;action=edit&amp;section=1\" title=\"Edit section: Overview\">edit</a><span class=\"mw-editsection-bracket\">]</span></span></h2>,\n",
       " <h2><span class=\"mw-headline\" id=\"Version_history\">Version history</span><span class=\"mw-editsection\"><span class=\"mw-editsection-bracket\">[</span><a href=\"/w/index.php?title=Android_version_history&amp;action=edit&amp;section=2\" title=\"Edit section: Version history\">edit</a><span class=\"mw-editsection-bracket\">]</span></span></h2>,\n",
       " <h2><span class=\"mw-headline\" id=\"Hardware_requirements\"><span class=\"anchor\" id=\"HWREQ\"></span>Hardware requirements</span><span class=\"mw-editsection\"><span class=\"mw-editsection-bracket\">[</span><a href=\"/w/index.php?title=Android_version_history&amp;action=edit&amp;section=34\" title=\"Edit section: Hardware requirements\">edit</a><span class=\"mw-editsection-bracket\">]</span></span></h2>,\n",
       " <h2><span class=\"mw-headline\" id=\"See_also\">See also</span><span class=\"mw-editsection\"><span class=\"mw-editsection-bracket\">[</span><a href=\"/w/index.php?title=Android_version_history&amp;action=edit&amp;section=35\" title=\"Edit section: See also\">edit</a><span class=\"mw-editsection-bracket\">]</span></span></h2>,\n",
       " <h2><span class=\"mw-headline\" id=\"Explanatory_notes\">Explanatory notes</span><span class=\"mw-editsection\"><span class=\"mw-editsection-bracket\">[</span><a href=\"/w/index.php?title=Android_version_history&amp;action=edit&amp;section=36\" title=\"Edit section: Explanatory notes\">edit</a><span class=\"mw-editsection-bracket\">]</span></span></h2>,\n",
       " <h2><span class=\"mw-headline\" id=\"References\">References</span><span class=\"mw-editsection\"><span class=\"mw-editsection-bracket\">[</span><a href=\"/w/index.php?title=Android_version_history&amp;action=edit&amp;section=37\" title=\"Edit section: References\">edit</a><span class=\"mw-editsection-bracket\">]</span></span></h2>,\n",
       " <h2><span class=\"mw-headline\" id=\"External_links\">External links</span><span class=\"mw-editsection\"><span class=\"mw-editsection-bracket\">[</span><a href=\"/w/index.php?title=Android_version_history&amp;action=edit&amp;section=38\" title=\"Edit section: External links\">edit</a><span class=\"mw-editsection-bracket\">]</span></span></h2>,\n",
       " <h2>Navigation menu</h2>]"
      ]
     },
     "metadata": {},
     "execution_count": 9
    }
   ],
   "source": [
    "android_soup.find_all('h2')"
   ]
  },
  {
   "cell_type": "code",
   "execution_count": 10,
   "metadata": {},
   "outputs": [
    {
     "output_type": "execute_result",
     "data": {
      "text/plain": [
       "note-311\">[c]</a></sup> and <a href=\"/wiki/MIPS_architecture\" title=\"MIPS architecture\">MIPS</a><sup class=\"reference\" id=\"cite_ref-313\"><a href=\"#cite_note-313\">[d]</a></sup> architectures also officially supported in later versions of Android, but MIPS support has since been deprecated and support was removed in NDK r17.<sup class=\"reference\" id=\"cite_ref-314\"><a href=\"#cite_note-314\">[309]</a></sup>\n",
       " </p>,\n",
       " <p>Unofficial <a href=\"/wiki/Android-x86\" title=\"Android-x86\">Android-x86</a> project used to provide support for the x86 and MIPS architectures ahead of the official support.<sup class=\"reference\" id=\"cite_ref-ARMAN-4.0-on-x86_315-0\"><a href=\"#cite_note-ARMAN-4.0-on-x86-315\">[310]</a></sup><sup class=\"reference\" id=\"cite_ref-Android_on_Intel_Architecture_316-0\"><a href=\"#cite_note-Android_on_Intel_Architecture-316\">[311]</a></sup>\n",
       " In 2012, Android devices with <a href=\"/wiki/Intel\" title=\"Intel\">Intel</a> processors began to appear, including phones<sup class=\"reference\" id=\"cite_ref-317\"><a href=\"#cite_note-317\">[312]</a></sup> and tablets. While gaining support for 64-bit platforms, Android was first made to run on 64-bit x86 and then on <a class=\"mw-redirect\" href=\"/wiki/ARM64\" title=\"ARM64\">ARM64</a>.<sup class=\"reference\" id=\"cite_ref-318\"><a href=\"#cite_note-318\">[313]</a></sup><sup class=\"reference\" id=\"cite_ref-319\"><a href=\"#cite_note-319\">[314]</a></sup> Since Android 5.0 Lollipop, 64-bit variants of all platforms are supported in addition to the 32-bit variants.\n",
       " </p>,\n",
       " <p>Requirements for the minimum amount of <a href=\"/wiki/Random-access_memory\" title=\"Random-access memory\">RAM</a> for devices running Android 7.1 depend on screen size and density and type of CPU, ranging from 816<span class=\"nowrap\"> </span>MB–1.8<span class=\"nowrap\"> </span>GB for 64-bit and 512<span class=\"nowrap\"> </span>MB–1.3<span class=\"nowrap\"> </span>GB for 32-bit meaning in practice 1<span class=\"nowrap\"> </span>GB for the most common type of display (while minimum for Android watch is 416<span class=\"nowrap\"> </span>MB).<sup class=\"reference\" id=\"cite_ref-320\"><a href=\"#cite_note-320\">[315]</a></sup> The recommendation for Android 4.4 is to have at least 512 MB of RAM,<sup class=\"reference\" id=\"cite_ref-321\"><a href=\"#cite_note-321\">[316]</a></sup> while for \"low RAM\" devices 340 MB is the required minimum amount that does not include memory dedicated to various hardware components such as the <a href=\"/wiki/Baseband_processor\" title=\"Baseband processor\">baseband processor</a>.<sup class=\"reference\" id=\"cite_ref-cdd-4.4_170-1\"><a href=\"#cite_note-cdd-4.4-170\">[167]</a></sup>  Android 4.4 requires a <a class=\"mw-redirect\" href=\"/wiki/32-bit\" title=\"32-bit\">32-bit</a> <a class=\"mw-redirect\" href=\"/wiki/ARMv7\" title=\"ARMv7\">ARMv7</a>, <a href=\"/wiki/MIPS_architecture\" title=\"MIPS architecture\">MIPS</a> or <a href=\"/wiki/X86\" title=\"X86\">x86</a> architecture processor (latter two through unofficial ports),<sup class=\"reference\" id=\"cite_ref-ARMAN-4.0-on-x86_315-1\"><a href=\"#cite_note-ARMAN-4.0-on-x86-315\">[310]</a></sup><sup class=\"reference\" id=\"cite_ref-Android_on_Intel_Architecture_316-1\"><a href=\"#cite_note-Android_on_Intel_Architecture-316\">[311]</a></sup> together with an <a href=\"/wiki/OpenGL_ES\" title=\"OpenGL ES\">OpenGL ES</a> 2.0 compatible <a href=\"/wiki/Graphics_processing_unit\" title=\"Graphics processing unit\">graphics processing unit</a> (GPU).<sup class=\"reference\" id=\"cite_ref-android-opengl-2.0_322-0\"><a href=\"#cite_note-android-opengl-2.0-322\">[317]</a></sup> Android supports OpenGL ES 1.1, 2.0, 3.0, 3.2 and since Android 7.0 <a href=\"/wiki/Vulkan_(API)\" title=\"Vulkan (API)\">Vulkan</a> (and version 1.1 available for some devices<sup class=\"reference\" id=\"cite_ref-323\"><a href=\"#cite_note-323\">[318]</a></sup>). Some applications may explicitly require a certain version of the OpenGL ES, and suitable GPU hardware is required to run such applications.<sup class=\"reference\" id=\"cite_ref-android-opengl-2.0_322-1\"><a href=\"#cite_note-android-opengl-2.0-322\">[317]</a></sup> In 2021 Android was ported to <a href=\"/wiki/RISC-V\" title=\"RISC-V\">RISC-V</a>.<sup class=\"reference\" id=\"cite_ref-324\"><a href=\"#cite_note-324\">[319]</a></sup> In 2021 Qualcomm said it will support more updates.<sup class=\"reference\" id=\"cite_ref-325\"><a href=\"#cite_note-325\">[320]</a></sup>\n",
       " </p>,\n",
       " <p>Android used<sup class=\"noprint Inline-Template\" style=\"white-space:nowrap;\">[<i><a href=\"/wiki/Wikipedia:Manual_of_Style/Dates_and_numbers#Chronological_items\" title=\"Wikipedia:Manual of Style/Dates and numbers\"><span title=\"The time period mentioned near this tag is ambiguous. (February 2021)\">when?</span></a></i>]</sup> to require an <a href=\"/wiki/Autofocus\" title=\"Autofocus\">autofocus</a> camera, which was relaxed to a <a href=\"/wiki/Fixed-focus_lens\" title=\"Fixed-focus lens\">fixed-focus</a> camera.<sup class=\"reference\" id=\"cite_ref-android-compatibility_326-0\"><a href=\"#cite_note-android-compatibility-326\">[321]</a></sup>\n",
       " </p>]"
      ]
     },
     "metadata": {},
     "execution_count": 10
    }
   ],
   "source": [
    "android_soup.find_all('p')"
   ]
  },
  {
   "cell_type": "code",
   "execution_count": 11,
   "metadata": {},
   "outputs": [
    {
     "output_type": "execute_result",
     "data": {
      "text/plain": [
       "?title=Android_version_history&amp;action=edit&amp;section=13\" title=\"Edit section: Android 3.0 Honeycomb\">edit</a><span class=\"mw-editsection-bracket\">]</span></span></h3>,\n",
       " <h3><span class=\"mw-headline\" id=\"Android_4.0_Ice_Cream_Sandwich\">Android 4.0 Ice Cream Sandwich</span><span class=\"mw-editsection\"><span class=\"mw-editsection-bracket\">[</span><a href=\"/w/index.php?title=Android_version_history&amp;action=edit&amp;section=16\" title=\"Edit section: Android 4.0 Ice Cream Sandwich\">edit</a><span class=\"mw-editsection-bracket\">]</span></span></h3>,\n",
       " <h3><span class=\"mw-headline\" id=\"Android_4.1_Jelly_Bean\">Android 4.1 Jelly Bean</span><span class=\"mw-editsection\"><span class=\"mw-editsection-bracket\">[</span><a href=\"/w/index.php?title=Android_version_history&amp;action=edit&amp;section=18\" title=\"Edit section: Android 4.1 Jelly Bean\">edit</a><span class=\"mw-editsection-bracket\">]</span></span></h3>,\n",
       " <h3><span class=\"mw-headline\" id=\"Android_4.4_KitKat\">Android 4.4 KitKat</span><span class=\"mw-editsection\"><span class=\"mw-editsection-bracket\">[</span><a href=\"/w/index.php?title=Android_version_history&amp;action=edit&amp;section=21\" title=\"Edit section: Android 4.4 KitKat\">edit</a><span class=\"mw-editsection-bracket\">]</span></span></h3>,\n",
       " <h3><span class=\"mw-headline\" id=\"Android_5.0_Lollipop\">Android 5.0 Lollipop</span><span class=\"mw-editsection\"><span class=\"mw-editsection-bracket\">[</span><a href=\"/w/index.php?title=Android_version_history&amp;action=edit&amp;section=23\" title=\"Edit section: Android 5.0 Lollipop\">edit</a><span class=\"mw-editsection-bracket\">]</span></span></h3>,\n",
       " <h3><span class=\"mw-headline\" id=\"Android_6.0_Marshmallow\">Android 6.0 Marshmallow</span><span class=\"mw-editsection\"><span class=\"mw-editsection-bracket\">[</span><a href=\"/w/index.php?title=Android_version_history&amp;action=edit&amp;section=25\" title=\"Edit section: Android 6.0 Marshmallow\">edit</a><span class=\"mw-editsection-bracket\">]</span></span></h3>,\n",
       " <h3><span class=\"mw-headline\" id=\"Android_7.0_Nougat\">Android 7.0 Nougat</span><span class=\"mw-editsection\"><span class=\"mw-editsection-bracket\">[</span><a href=\"/w/index.php?title=Android_version_history&amp;action=edit&amp;section=26\" title=\"Edit section: Android 7.0 Nougat\">edit</a><span class=\"mw-editsection-bracket\">]</span></span></h3>,\n",
       " <h3><span class=\"mw-headline\" id=\"Android_8.0_Oreo\">Android 8.0 Oreo</span><span class=\"mw-editsection\"><span class=\"mw-editsection-bracket\">[</span><a href=\"/w/index.php?title=Android_version_history&amp;action=edit&amp;section=28\" title=\"Edit section: Android 8.0 Oreo\">edit</a><span class=\"mw-editsection-bracket\">]</span></span></h3>,\n",
       " <h3><span class=\"mw-headline\" id=\"Android_9_Pie\">Android 9 Pie</span><span class=\"mw-editsection\"><span class=\"mw-editsection-bracket\">[</span><a href=\"/w/index.php?title=Android_version_history&amp;action=edit&amp;section=30\" title=\"Edit section: Android 9 Pie\">edit</a><span class=\"mw-editsection-bracket\">]</span></span></h3>,\n",
       " <h3><span class=\"mw-headline\" id=\"Android_10\">Android 10</span><span class=\"mw-editsection\"><span class=\"mw-editsection-bracket\">[</span><a href=\"/w/index.php?title=Android_version_history&amp;action=edit&amp;section=31\" title=\"Edit section: Android 10\">edit</a><span class=\"mw-editsection-bracket\">]</span></span></h3>,\n",
       " <h3><span class=\"mw-headline\" id=\"Android_11\">Android 11</span><span class=\"mw-editsection\"><span class=\"mw-editsection-bracket\">[</span><a href=\"/w/index.php?title=Android_version_history&amp;action=edit&amp;section=32\" title=\"Edit section: Android 11\">edit</a><span class=\"mw-editsection-bracket\">]</span></span></h3>,\n",
       " <h3><span class=\"mw-headline\" id=\"Android_12\">Android 12</span><span class=\"mw-editsection\"><span class=\"mw-editsection-bracket\">[</span><a href=\"/w/index.php?title=Android_version_history&amp;action=edit&amp;section=33\" title=\"Edit section: Android 12\">edit</a><span class=\"mw-editsection-bracket\">]</span></span></h3>,\n",
       " <h3 class=\"vector-menu-heading\" id=\"p-personal-label\">\n",
       " <span>Personal tools</span>\n",
       " </h3>,\n",
       " <h3 class=\"vector-menu-heading\" id=\"p-namespaces-label\">\n",
       " <span>Namespaces</span>\n",
       " </h3>,\n",
       " <h3 class=\"vector-menu-heading\" id=\"p-variants-label\">\n",
       " <span>Variants</span>\n",
       " </h3>,\n",
       " <h3 class=\"vector-menu-heading\" id=\"p-views-label\">\n",
       " <span>Views</span>\n",
       " </h3>,\n",
       " <h3 class=\"vector-menu-heading\" id=\"p-cactions-label\">\n",
       " <span>More</span>\n",
       " </h3>,\n",
       " <h3>\n",
       " <label for=\"searchInput\">Search</label>\n",
       " </h3>,\n",
       " <h3 class=\"vector-menu-heading\" id=\"p-navigation-label\">\n",
       " <span>Navigation</span>\n",
       " </h3>,\n",
       " <h3 class=\"vector-menu-heading\" id=\"p-interaction-label\">\n",
       " <span>Contribute</span>\n",
       " </h3>,\n",
       " <h3 class=\"vector-menu-heading\" id=\"p-tb-label\">\n",
       " <span>Tools</span>\n",
       " </h3>,\n",
       " <h3 class=\"vector-menu-heading\" id=\"p-coll-print_export-label\">\n",
       " <span>Print/export</span>\n",
       " </h3>,\n",
       " <h3 class=\"vector-menu-heading\" id=\"p-wikibase-otherprojects-label\">\n",
       " <span>In other projects</span>\n",
       " </h3>,\n",
       " <h3 class=\"vector-menu-heading\" id=\"p-lang-label\">\n",
       " <span>Languages</span>\n",
       " </h3>]"
      ]
     },
     "metadata": {},
     "execution_count": 11
    }
   ],
   "source": [
    "android_soup.find_all('h3')"
   ]
  },
  {
   "cell_type": "code",
   "execution_count": 12,
   "metadata": {},
   "outputs": [],
   "source": [
    "android_table=android_soup.find_all('table',{\"class\":'wikitable'})"
   ]
  },
  {
   "source": [
    "print(len(android_table))"
   ],
   "cell_type": "code",
   "metadata": {},
   "execution_count": 13,
   "outputs": [
    {
     "output_type": "stream",
     "name": "stdout",
     "text": [
      "32\n"
     ]
    }
   ]
  },
  {
   "source": [
    "Extracting useful infomation\n",
    "- remove undesired tags\n",
    "- extract table header and data"
   ],
   "cell_type": "markdown",
   "metadata": {}
  },
  {
   "source": [],
   "cell_type": "markdown",
   "metadata": {}
  },
  {
   "cell_type": "code",
   "execution_count": 14,
   "metadata": {},
   "outputs": [
    {
     "output_type": "execute_result",
     "data": {
      "text/plain": [
       "/tr>\n",
       "<tr>\n",
       "<td>4.4W - 4.4W.2\n",
       "</td>\n",
       "<td>June 25, 2014\n",
       "</td>\n",
       "<td class=\"table-no\" style=\"background:#F99;vertical-align:middle;text-align:center;\">No\n",
       "</td>\n",
       "<td>20\n",
       "</td>\n",
       "<td>\n",
       "</td></tr>\n",
       "<tr>\n",
       "<td rowspan=\"2\"><a href=\"/wiki/Android_Lollipop\" title=\"Android Lollipop\">Lollipop</a>\n",
       "</td>\n",
       "<td>5.0 – 5.0.2\n",
       "</td>\n",
       "<td>November 4, 2014\n",
       "</td>\n",
       "<td class=\"table-no\" style=\"background:#F99;vertical-align:middle;text-align:center;\">No\n",
       "</td>\n",
       "<td>21\n",
       "</td>\n",
       "<td><sup class=\"reference\" id=\"cite_ref-:0_14-11\"><a href=\"#cite_note-:0-14\">[14]</a></sup><sup class=\"reference\" id=\"cite_ref-27\"><a href=\"#cite_note-27\">[27]</a></sup><sup class=\"reference\" id=\"cite_ref-28\"><a href=\"#cite_note-28\">[28]</a></sup>\n",
       "</td></tr>\n",
       "<tr>\n",
       "<td>5.1 - 5.1.1\n",
       "</td>\n",
       "<td>March 2, 2015\n",
       "</td>\n",
       "<td class=\"table-no\" style=\"background:#F99;vertical-align:middle;text-align:center;\">No\n",
       "</td>\n",
       "<td>22\n",
       "</td>\n",
       "<td><sup class=\"reference\" id=\"cite_ref-29\"><a href=\"#cite_note-29\">[29]</a></sup>\n",
       "</td></tr>\n",
       "<tr>\n",
       "<td><a href=\"/wiki/Android_Marshmallow\" title=\"Android Marshmallow\">Marshmallow</a>\n",
       "</td>\n",
       "<td>6.0 – 6.0.1\n",
       "</td>\n",
       "<td>October 2, 2015\n",
       "</td>\n",
       "<td class=\"table-no\" style=\"background:#F99;vertical-align:middle;text-align:center;\">No\n",
       "</td>\n",
       "<td>23\n",
       "</td>\n",
       "<td><sup class=\"reference\" id=\"cite_ref-:0_14-12\"><a href=\"#cite_note-:0-14\">[14]</a></sup><sup class=\"reference\" id=\"cite_ref-30\"><a href=\"#cite_note-30\">[30]</a></sup><sup class=\"reference\" id=\"cite_ref-31\"><a href=\"#cite_note-31\">[31]</a></sup>\n",
       "</td></tr>\n",
       "<tr>\n",
       "<td rowspan=\"2\"><a href=\"/wiki/Android_Nougat\" title=\"Android Nougat\">Nougat</a>\n",
       "</td>\n",
       "<td>7.0\n",
       "</td>\n",
       "<td>August 22, 2016\n",
       "</td>\n",
       "<td class=\"table-no\" style=\"background:#F99;vertical-align:middle;text-align:center;\">No\n",
       "</td>\n",
       "<td>24\n",
       "</td>\n",
       "<td><sup class=\"reference\" id=\"cite_ref-:0_14-13\"><a href=\"#cite_note-:0-14\">[14]</a></sup><sup class=\"reference\" id=\"cite_ref-32\"><a href=\"#cite_note-32\">[32]</a></sup><sup class=\"reference\" id=\"cite_ref-33\"><a href=\"#cite_note-33\">[33]</a></sup><sup class=\"reference\" id=\"cite_ref-34\"><a href=\"#cite_note-34\">[34]</a></sup><sup class=\"reference\" id=\"cite_ref-35\"><a href=\"#cite_note-35\">[35]</a></sup>\n",
       "</td></tr>\n",
       "<tr>\n",
       "<td>7.1 - 7.1.2\n",
       "</td>\n",
       "<td>October 4, 2016\n",
       "</td>\n",
       "<td class=\"table-no\" style=\"background:#F99;vertical-align:middle;text-align:center;\">No\n",
       "</td>\n",
       "<td>25\n",
       "</td>\n",
       "<td>\n",
       "</td></tr>\n",
       "<tr>\n",
       "<td rowspan=\"2\"><a href=\"/wiki/Android_Oreo\" title=\"Android Oreo\">Oreo</a>\n",
       "</td>\n",
       "<td>8.0\n",
       "</td>\n",
       "<td>August 21, 2017\n",
       "</td>\n",
       "<td class=\"table-no\" style=\"background:#F99;vertical-align:middle;text-align:center;\">No\n",
       "</td>\n",
       "<td>26\n",
       "</td>\n",
       "<td><sup class=\"reference\" id=\"cite_ref-:0_14-14\"><a href=\"#cite_note-:0-14\">[14]</a></sup><sup class=\"reference\" id=\"cite_ref-36\"><a href=\"#cite_note-36\">[36]</a></sup><sup class=\"reference\" id=\"cite_ref-37\"><a href=\"#cite_note-37\">[37]</a></sup>\n",
       "</td></tr>\n",
       "<tr>\n",
       "<td>8.1\n",
       "</td>\n",
       "<td>December 5, 2017\n",
       "</td>\n",
       "<td class=\"table-yes\" style=\"background:#9F9;vertical-align:middle;text-align:center;\">Yes<sup class=\"reference\" id=\"cite_ref-38\"><a href=\"#cite_note-38\">[a]</a></sup>\n",
       "</td>\n",
       "<td>27\n",
       "</td>\n",
       "<td><sup class=\"reference\" id=\"cite_ref-:0_14-15\"><a href=\"#cite_note-:0-14\">[14]</a></sup><sup class=\"reference\" id=\"cite_ref-39\"><a href=\"#cite_note-39\">[38]</a></sup>\n",
       "</td></tr>\n",
       "<tr>\n",
       "<td><a href=\"/wiki/Android_Pie\" title=\"Android Pie\">Pie</a>\n",
       "</td>\n",
       "<td>9\n",
       "</td>\n",
       "<td>December 4, 2018\n",
       "</td>\n",
       "<td class=\"table-yes\" style=\"background:#9F9;vertical-align:middle;text-align:center;\">Yes\n",
       "</td>\n",
       "<td>28\n",
       "</td>\n",
       "<td><sup class=\"reference\" id=\"cite_ref-:0_14-16\"><a href=\"#cite_note-:0-14\">[14]</a></sup><sup class=\"reference\" id=\"cite_ref-40\"><a href=\"#cite_note-40\">[39]</a></sup>\n",
       "</td></tr>\n",
       "<tr>\n",
       "<td><a href=\"/wiki/Android_10\" title=\"Android 10\">Android 10</a>\n",
       "</td>\n",
       "<td>10\n",
       "</td>\n",
       "<td>September 7, 2019\n",
       "</td>\n",
       "<td class=\"table-yes\" style=\"background:#9F9;vertical-align:middle;text-align:center;\">Yes\n",
       "</td>\n",
       "<td>29\n",
       "</td>\n",
       "<td><sup class=\"reference\" id=\"cite_ref-:0_14-17\"><a href=\"#cite_note-:0-14\">[14]</a></sup><sup class=\"reference\" id=\"cite_ref-41\"><a href=\"#cite_note-41\">[40]</a></sup><sup class=\"reference\" id=\"cite_ref-42\"><a href=\"#cite_note-42\">[41]</a></sup>\n",
       "</td></tr>\n",
       "<tr>\n",
       "<td><a href=\"/wiki/Android_11\" title=\"Android 11\">Android 11</a>\n",
       "</td>\n",
       "<td>11\n",
       "</td>\n",
       "<td>September 8, 2020\n",
       "</td>\n",
       "<td class=\"table-yes\" style=\"background:#9F9;vertical-align:middle;text-align:center;\">Yes\n",
       "</td>\n",
       "<td>30\n",
       "</td>\n",
       "<td><sup class=\"reference\" id=\"cite_ref-:0_14-18\"><a href=\"#cite_note-:0-14\">[14]</a></sup><sup class=\"reference\" id=\"cite_ref-43\"><a href=\"#cite_note-43\">[42]</a></sup>\n",
       "</td></tr>\n",
       "<tr>\n",
       "<td><a href=\"/wiki/Android_12\" title=\"Android 12\">Android 12</a>\n",
       "</td>\n",
       "<td>12\n",
       "</td>\n",
       "<td class=\"no table-no2\" style=\"background: #DDF; color: #2C2C2C; vertical-align: middle; text-align: center;\">TBA\n",
       "</td>\n",
       "<td style=\"background:#9FF;vertical-align:middle;text-align:center;\">Presupported\n",
       "</td>\n",
       "<td>31\n",
       "</td>\n",
       "<td><sup class=\"reference\" id=\"cite_ref-:0_14-19\"><a href=\"#cite_note-:0-14\">[14]</a></sup><sup class=\"reference\" id=\"cite_ref-44\"><a href=\"#cite_note-44\">[43]</a></sup>\n",
       "</td></tr></tbody></table>"
      ]
     },
     "metadata": {},
     "execution_count": 14
    }
   ],
   "source": [
    "table=android_table[0]\n",
    "table"
   ]
  },
  {
   "cell_type": "code",
   "execution_count": 15,
   "metadata": {},
   "outputs": [],
   "source": [
    "header=table.find_all('th')"
   ]
  },
  {
   "cell_type": "code",
   "execution_count": 16,
   "metadata": {
    "tags": []
   },
   "outputs": [
    {
     "output_type": "stream",
     "name": "stdout",
     "text": [
      "['Name', 'Version number(s)', 'Initial stablerelease date', 'Supported(security fixes)', 'API level', 'References']\n"
     ]
    }
   ],
   "source": [
    "column_titles=[ct.text[:-1] for ct in header]\n",
    "print(column_titles)"
   ]
  },
  {
   "cell_type": "code",
   "execution_count": 17,
   "metadata": {
    "tags": []
   },
   "outputs": [
    {
     "output_type": "stream",
     "name": "stdout",
     "text": [
      "32\n\nName\n\nVersion number(s)\n\nInitial stablerelease date\n\nSupported(security fixes)\n\nAPI level\n\nReferences\n\n\nNo official codename\n\n1.0\n\nSeptember 23, 2008\n\nNo\n\n1\n\n[9][14]\n\n\n1.1\n\nFebruary 9, 2009\n\nNo\n\n2\n\n[9][14][15]\n\n\nCupcake\n\n1.5\n\nApril 27, 2009\n\nNo\n\n3\n\n[14][16]\n\n\nDonut\n\n1.6\n\nSeptember 15, 2009\n\nNo\n\n4\n\n[14][17]\n\n\nEclair\n\n2.0\n\nOctober 27, 2009\n\nNo\n\n5\n\n[14][18][19]\n\n\n2.0.1\n\nDecember 3, 2009\n\nNo\n\n6\n\n\n\n\n2.1\n\nJanuary 11, 2010\n\nNo\n\n7\n\n[20]\n\n\nFroyo\n\n2.2 – 2.2.3\n\nMay 20, 2010\n\nNo\n\n8\n\n[14][21]\n\n\nGingerbread\n\n2.3 – 2.3.2\n\nDecember 6, 2010\n\nNo\n\n9\n\n[14][22]\n\n\n2.3.3 - 2.3.7\n\nFebruary 9, 2011\n\nNo\n\n10\n\n\n\n\nHoneycomb\n\n3.0\n\nFebruary 22, 2011\n\nNo\n\n11\n\n[14][23]\n\n\n3.1\n\nMay 10, 2011\n\nNo\n\n12\n\n\n\n\n3.2 - 3.2.6\n\nJuly 15, 2011\n\nNo\n\n13\n\n\n\n\nIce Cream Sandwich\n\n4.0 – 4.0.2\n\nOctober 18, 2011\n\nNo\n\n14\n\n[14][24]\n\n\n4.0.3 - 4.0.4\n\nDecember 16, 2011\n\nNo\n\n15\n\n\n\n\nJelly Bean\n\n4.1 – 4.1.2\n\nJuly 9, 2012\n\nNo\n\n16\n\n[14][25]\n\n\n4.2 - 4.2.2\n\nNovember 13, 2012\n\nNo\n\n17\n\n\n\n\n4.3 - 4.3.1\n\nJuly 24, 2013\n\nNo\n\n18\n\n\n\n\nKitKat\n\n4.4 – 4.4.4\n\nOctober 31, 2013\n\nNo\n\n19\n\n[14][26]\n\n\n4.4W - 4.4W.2\n\nJune 25, 2014\n\nNo\n\n20\n\n\n\n\nLollipop\n\n5.0 – 5.0.2\n\nNovember 4, 2014\n\nNo\n\n21\n\n[14][27][28]\n\n\n5.1 - 5.1.1\n\nMarch 2, 2015\n\nNo\n\n22\n\n[29]\n\n\nMarshmallow\n\n6.0 – 6.0.1\n\nOctober 2, 2015\n\nNo\n\n23\n\n[14][30][31]\n\n\nNougat\n\n7.0\n\nAugust 22, 2016\n\nNo\n\n24\n\n[14][32][33][34][35]\n\n\n7.1 - 7.1.2\n\nOctober 4, 2016\n\nNo\n\n25\n\n\n\n\nOreo\n\n8.0\n\nAugust 21, 2017\n\nNo\n\n26\n\n[14][36][37]\n\n\n8.1\n\nDecember 5, 2017\n\nYes[a]\n\n27\n\n[14][38]\n\n\nPie\n\n9\n\nDecember 4, 2018\n\nYes\n\n28\n\n[14][39]\n\n\nAndroid 10\n\n10\n\nSeptember 7, 2019\n\nYes\n\n29\n\n[14][40][41]\n\n\nAndroid 11\n\n11\n\nSeptember 8, 2020\n\nYes\n\n30\n\n[14][42]\n\n\nAndroid 12\n\n12\n\nTBA\n\nPresupported\n\n31\n\n[14][43]\n\n"
     ]
    }
   ],
   "source": [
    "rows_data=table.find_all('tr',{})\n",
    "print(len(rows_data))\n",
    "for i in rows_data:\n",
    "    print(i.text)"
   ]
  },
  {
   "cell_type": "code",
   "execution_count": 31,
   "metadata": {
    "tags": []
   },
   "outputs": [
    {
     "output_type": "stream",
     "name": "stdout",
     "text": [
      "j ---------->    1\nj ---------->    2\nj ---------->    3\nj ---------->    4\nj ---------->    5\nj ---------->    6\nj ---------->    7\nj ---------->    8\nj ---------->    9\nj ---------->    10\nj ---------->    11\nj ---------->    12\nj ---------->    13\nj ---------->    14\nj ---------->    15\nj ---------->    16\nj ---------->    17\nj ---------->    18\nj ---------->    19\nj ---------->    20\nj ---------->    21\nj ---------->    22\nj ---------->    23\nj ---------->    24\nj ---------->    25\nj ---------->    26\nj ---------->    27\nj ---------->    28\nj ---------->    29\nj ---------->    30\nj ---------->    31\nj ---------->    32\n"
     ]
    }
   ],
   "source": [
    "row_data=[]\n",
    "j=0\n",
    "for i in rows_data:\n",
    "    j+=1\n",
    "    print(\"j ---------->   \",j)\n",
    "    x=i.text\n",
    "    x=x.split(\"\\n\")\n",
    "    \n",
    "    row_data.append(x)\n",
    "    "
   ]
  },
  {
   "cell_type": "code",
   "execution_count": 32,
   "metadata": {},
   "outputs": [
    {
     "output_type": "execute_result",
     "data": {
      "text/plain": [
       "32"
      ]
     },
     "metadata": {},
     "execution_count": 32
    }
   ],
   "source": [
    "len(row_data)"
   ]
  },
  {
   "cell_type": "code",
   "execution_count": 33,
   "metadata": {
    "tags": []
   },
   "outputs": [
    {
     "output_type": "stream",
     "name": "stdout",
     "text": [
      " | No official codename |  | 1.0 |  | September 23, 2008 |  | No |  | 1 |  | [9][14] |  | \n | 1.1 |  | February 9, 2009 |  | No |  | 2 |  | [9][14][15] |  | \n | Cupcake |  | 1.5 |  | April 27, 2009 |  | No |  | 3 |  | [14][16] |  | \n | Donut |  | 1.6 |  | September 15, 2009 |  | No |  | 4 |  | [14][17] |  | \n | Eclair |  | 2.0 |  | October 27, 2009 |  | No |  | 5 |  | [14][18][19] |  | \n | 2.0.1 |  | December 3, 2009 |  | No |  | 6 |  |  |  | \n | 2.1 |  | January 11, 2010 |  | No |  | 7 |  | [20] |  | \n | Froyo |  | 2.2 – 2.2.3 |  | May 20, 2010 |  | No |  | 8 |  | [14][21] |  | \n | Gingerbread |  | 2.3 – 2.3.2 |  | December 6, 2010 |  | No |  | 9 |  | [14][22] |  | \n | 2.3.3 - 2.3.7 |  | February 9, 2011 |  | No |  | 10 |  |  |  | \n | Honeycomb |  | 3.0 |  | February 22, 2011 |  | No |  | 11 |  | [14][23] |  | \n | 3.1 |  | May 10, 2011 |  | No |  | 12 |  |  |  | \n | 3.2 - 3.2.6 |  | July 15, 2011 |  | No |  | 13 |  |  |  | \n | Ice Cream Sandwich |  | 4.0 – 4.0.2 |  | October 18, 2011 |  | No |  | 14 |  | [14][24] |  | \n | 4.0.3 - 4.0.4 |  | December 16, 2011 |  | No |  | 15 |  |  |  | \n | Jelly Bean |  | 4.1 – 4.1.2 |  | July 9, 2012 |  | No |  | 16 |  | [14][25] |  | \n | 4.2 - 4.2.2 |  | November 13, 2012 |  | No |  | 17 |  |  |  | \n | 4.3 - 4.3.1 |  | July 24, 2013 |  | No |  | 18 |  |  |  | \n | KitKat |  | 4.4 – 4.4.4 |  | October 31, 2013 |  | No |  | 19 |  | [14][26] |  | \n | 4.4W - 4.4W.2 |  | June 25, 2014 |  | No |  | 20 |  |  |  | \n | Lollipop |  | 5.0 – 5.0.2 |  | November 4, 2014 |  | No |  | 21 |  | [14][27][28] |  | \n | 5.1 - 5.1.1 |  | March 2, 2015 |  | No |  | 22 |  | [29] |  | \n | Marshmallow |  | 6.0 – 6.0.1 |  | October 2, 2015 |  | No |  | 23 |  | [14][30][31] |  | \n | Nougat |  | 7.0 |  | August 22, 2016 |  | No |  | 24 |  | [14][32][33][34][35] |  | \n | 7.1 - 7.1.2 |  | October 4, 2016 |  | No |  | 25 |  |  |  | \n | Oreo |  | 8.0 |  | August 21, 2017 |  | No |  | 26 |  | [14][36][37] |  | \n | 8.1 |  | December 5, 2017 |  | Yes[a] |  | 27 |  | [14][38] |  | \n | Pie |  | 9 |  | December 4, 2018 |  | Yes |  | 28 |  | [14][39] |  | \n | Android 10 |  | 10 |  | September 7, 2019 |  | Yes |  | 29 |  | [14][40][41] |  | \n | Android 11 |  | 11 |  | September 8, 2020 |  | Yes |  | 30 |  | [14][42] |  | \n | Android 12 |  | 12 |  | TBA |  | Presupported |  | 31 |  | [14][43] |  | \n"
     ]
    }
   ],
   "source": [
    "for i in row_data[1:]:\n",
    "    for j in i:\n",
    "        print(j,end=\" | \")\n",
    "    print()"
   ]
  },
  {
   "cell_type": "code",
   "execution_count": 34,
   "metadata": {},
   "outputs": [
    {
     "output_type": "stream",
     "name": "stdout",
     "text": [
      "['', 'Name', '', 'Version number(s)', '', 'Initial stablerelease date', '', 'Supported(security fixes)', '', 'API level', '', 'References', ''] 13\n\nName\n\nVersion number(s)\n\nInitial stablerelease date\n\nSupported(security fixes)\n\nAPI level\n\nReferences\n\n['', 'No official codename', '', '1.0', '', 'September 23, 2008', '', 'No', '', '1', '', '[9][14]', ''] 13\n\nNo official codename\n\n1.0\n\nSeptember 23: 2008\n\nNo\n\n1\n\n[9][14]\n\n['', '1.1', '', 'February 9, 2009', '', 'No', '', '2', '', '[9][14][15]', ''] 11\n\n1.1\n\nFebruary 9: 2009\n\nNo\n\n2\n\n[9][14][15]\n\n['', 'Cupcake', '', '1.5', '', 'April 27, 2009', '', 'No', '', '3', '', '[14][16]', ''] 13\n\nCupcake\n\n1.5\n\nApril 27: 2009\n\nNo\n\n3\n\n[14][16]\n\n['', 'Donut', '', '1.6', '', 'September 15, 2009', '', 'No', '', '4', '', '[14][17]', ''] 13\n\nDonut\n\n1.6\n\nSeptember 15: 2009\n\nNo\n\n4\n\n[14][17]\n\n['', 'Eclair', '', '2.0', '', 'October 27, 2009', '', 'No', '', '5', '', '[14][18][19]', ''] 13\n\nEclair\n\n2.0\n\nOctober 27: 2009\n\nNo\n\n5\n\n[14][18][19]\n\n['', '2.0.1', '', 'December 3, 2009', '', 'No', '', '6', '', '', ''] 11\n\n2.0.1\n\nDecember 3: 2009\n\nNo\n\n6\n\n\n\n['', '2.1', '', 'January 11, 2010', '', 'No', '', '7', '', '[20]', ''] 11\n\n2.1\n\nJanuary 11: 2010\n\nNo\n\n7\n\n[20]\n\n['', 'Froyo', '', '2.2 – 2.2.3', '', 'May 20, 2010', '', 'No', '', '8', '', '[14][21]', ''] 13\n\nFroyo\n\n2.2 – 2.2.3\n\nMay 20: 2010\n\nNo\n\n8\n\n[14][21]\n\n['', 'Gingerbread', '', '2.3 – 2.3.2', '', 'December 6, 2010', '', 'No', '', '9', '', '[14][22]', ''] 13\n\nGingerbread\n\n2.3 – 2.3.2\n\nDecember 6: 2010\n\nNo\n\n9\n\n[14][22]\n\n['', '2.3.3 - 2.3.7', '', 'February 9, 2011', '', 'No', '', '10', '', '', ''] 11\n\n2.3.3 - 2.3.7\n\nFebruary 9: 2011\n\nNo\n\n10\n\n\n\n['', 'Honeycomb', '', '3.0', '', 'February 22, 2011', '', 'No', '', '11', '', '[14][23]', ''] 13\n\nHoneycomb\n\n3.0\n\nFebruary 22: 2011\n\nNo\n\n11\n\n[14][23]\n\n['', '3.1', '', 'May 10, 2011', '', 'No', '', '12', '', '', ''] 11\n\n3.1\n\nMay 10: 2011\n\nNo\n\n12\n\n\n\n['', '3.2 - 3.2.6', '', 'July 15, 2011', '', 'No', '', '13', '', '', ''] 11\n\n3.2 - 3.2.6\n\nJuly 15: 2011\n\nNo\n\n13\n\n\n\n['', 'Ice Cream Sandwich', '', '4.0 – 4.0.2', '', 'October 18, 2011', '', 'No', '', '14', '', '[14][24]', ''] 13\n\nIce Cream Sandwich\n\n4.0 – 4.0.2\n\nOctober 18: 2011\n\nNo\n\n14\n\n[14][24]\n\n['', '4.0.3 - 4.0.4', '', 'December 16, 2011', '', 'No', '', '15', '', '', ''] 11\n\n4.0.3 - 4.0.4\n\nDecember 16: 2011\n\nNo\n\n15\n\n\n\n['', 'Jelly Bean', '', '4.1 – 4.1.2', '', 'July 9, 2012', '', 'No', '', '16', '', '[14][25]', ''] 13\n\nJelly Bean\n\n4.1 – 4.1.2\n\nJuly 9: 2012\n\nNo\n\n16\n\n[14][25]\n\n['', '4.2 - 4.2.2', '', 'November 13, 2012', '', 'No', '', '17', '', '', ''] 11\n\n4.2 - 4.2.2\n\nNovember 13: 2012\n\nNo\n\n17\n\n\n\n['', '4.3 - 4.3.1', '', 'July 24, 2013', '', 'No', '', '18', '', '', ''] 11\n\n4.3 - 4.3.1\n\nJuly 24: 2013\n\nNo\n\n18\n\n\n\n['', 'KitKat', '', '4.4 – 4.4.4', '', 'October 31, 2013', '', 'No', '', '19', '', '[14][26]', ''] 13\n\nKitKat\n\n4.4 – 4.4.4\n\nOctober 31: 2013\n\nNo\n\n19\n\n[14][26]\n\n['', '4.4W - 4.4W.2', '', 'June 25, 2014', '', 'No', '', '20', '', '', ''] 11\n\n4.4W - 4.4W.2\n\nJune 25: 2014\n\nNo\n\n20\n\n\n\n['', 'Lollipop', '', '5.0 – 5.0.2', '', 'November 4, 2014', '', 'No', '', '21', '', '[14][27][28]', ''] 13\n\nLollipop\n\n5.0 – 5.0.2\n\nNovember 4: 2014\n\nNo\n\n21\n\n[14][27][28]\n\n['', '5.1 - 5.1.1', '', 'March 2, 2015', '', 'No', '', '22', '', '[29]', ''] 11\n\n5.1 - 5.1.1\n\nMarch 2: 2015\n\nNo\n\n22\n\n[29]\n\n['', 'Marshmallow', '', '6.0 – 6.0.1', '', 'October 2, 2015', '', 'No', '', '23', '', '[14][30][31]', ''] 13\n\nMarshmallow\n\n6.0 – 6.0.1\n\nOctober 2: 2015\n\nNo\n\n23\n\n[14][30][31]\n\n['', 'Nougat', '', '7.0', '', 'August 22, 2016', '', 'No', '', '24', '', '[14][32][33][34][35]', ''] 13\n\nNougat\n\n7.0\n\nAugust 22: 2016\n\nNo\n\n24\n\n[14][32][33][34][35]\n\n['', '7.1 - 7.1.2', '', 'October 4, 2016', '', 'No', '', '25', '', '', ''] 11\n\n7.1 - 7.1.2\n\nOctober 4: 2016\n\nNo\n\n25\n\n\n\n['', 'Oreo', '', '8.0', '', 'August 21, 2017', '', 'No', '', '26', '', '[14][36][37]', ''] 13\n\nOreo\n\n8.0\n\nAugust 21: 2017\n\nNo\n\n26\n\n[14][36][37]\n\n['', '8.1', '', 'December 5, 2017', '', 'Yes[a]', '', '27', '', '[14][38]', ''] 11\n\n8.1\n\nDecember 5: 2017\n\nYes[a]\n\n27\n\n[14][38]\n\n['', 'Pie', '', '9', '', 'December 4, 2018', '', 'Yes', '', '28', '', '[14][39]', ''] 13\n\nPie\n\n9\n\nDecember 4: 2018\n\nYes\n\n28\n\n[14][39]\n\n['', 'Android 10', '', '10', '', 'September 7, 2019', '', 'Yes', '', '29', '', '[14][40][41]', ''] 13\n\nAndroid 10\n\n10\n\nSeptember 7: 2019\n\nYes\n\n29\n\n[14][40][41]\n\n['', 'Android 11', '', '11', '', 'September 8, 2020', '', 'Yes', '', '30', '', '[14][42]', ''] 13\n\nAndroid 11\n\n11\n\nSeptember 8: 2020\n\nYes\n\n30\n\n[14][42]\n\n['', 'Android 12', '', '12', '', 'TBA', '', 'Presupported', '', '31', '', '[14][43]', ''] 13\n\nAndroid 12\n\n12\n\nTBA\n\nPresupported\n\n31\n\n[14][43]\n\n"
     ]
    }
   ],
   "source": [
    "\n",
    "table_data=[]\n",
    "for row in row_data:\n",
    "    app=[]\n",
    "    print(row,len(row))\n",
    "\n",
    "    for i in row:\n",
    "        i=i.replace(\",\",\":\")\n",
    "        print(i)\n",
    "        if len(i)>0:\n",
    "            app.append(i)\n",
    "            \n",
    "    table_data.append(app)"
   ]
  },
  {
   "cell_type": "code",
   "execution_count": 35,
   "metadata": {},
   "outputs": [
    {
     "output_type": "stream",
     "name": "stdout",
     "text": [
      "[['Name', 'Version number(s)', 'Initial stablerelease date', 'Supported(security fixes)', 'API level', 'References'], ['No official codename', '1.0', 'September 23: 2008', 'No', '1', '[9][14]'], ['1.1', 'February 9: 2009', 'No', '2', '[9][14][15]'], ['Cupcake', '1.5', 'April 27: 2009', 'No', '3', '[14][16]'], ['Donut', '1.6', 'September 15: 2009', 'No', '4', '[14][17]'], ['Eclair', '2.0', 'October 27: 2009', 'No', '5', '[14][18][19]'], ['2.0.1', 'December 3: 2009', 'No', '6'], ['2.1', 'January 11: 2010', 'No', '7', '[20]'], ['Froyo', '2.2 – 2.2.3', 'May 20: 2010', 'No', '8', '[14][21]'], ['Gingerbread', '2.3 – 2.3.2', 'December 6: 2010', 'No', '9', '[14][22]'], ['2.3.3 - 2.3.7', 'February 9: 2011', 'No', '10'], ['Honeycomb', '3.0', 'February 22: 2011', 'No', '11', '[14][23]'], ['3.1', 'May 10: 2011', 'No', '12'], ['3.2 - 3.2.6', 'July 15: 2011', 'No', '13'], ['Ice Cream Sandwich', '4.0 – 4.0.2', 'October 18: 2011', 'No', '14', '[14][24]'], ['4.0.3 - 4.0.4', 'December 16: 2011', 'No', '15'], ['Jelly Bean', '4.1 – 4.1.2', 'July 9: 2012', 'No', '16', '[14][25]'], ['4.2 - 4.2.2', 'November 13: 2012', 'No', '17'], ['4.3 - 4.3.1', 'July 24: 2013', 'No', '18'], ['KitKat', '4.4 – 4.4.4', 'October 31: 2013', 'No', '19', '[14][26]'], ['4.4W - 4.4W.2', 'June 25: 2014', 'No', '20'], ['Lollipop', '5.0 – 5.0.2', 'November 4: 2014', 'No', '21', '[14][27][28]'], ['5.1 - 5.1.1', 'March 2: 2015', 'No', '22', '[29]'], ['Marshmallow', '6.0 – 6.0.1', 'October 2: 2015', 'No', '23', '[14][30][31]'], ['Nougat', '7.0', 'August 22: 2016', 'No', '24', '[14][32][33][34][35]'], ['7.1 - 7.1.2', 'October 4: 2016', 'No', '25'], ['Oreo', '8.0', 'August 21: 2017', 'No', '26', '[14][36][37]'], ['8.1', 'December 5: 2017', 'Yes[a]', '27', '[14][38]'], ['Pie', '9', 'December 4: 2018', 'Yes', '28', '[14][39]'], ['Android 10', '10', 'September 7: 2019', 'Yes', '29', '[14][40][41]'], ['Android 11', '11', 'September 8: 2020', 'Yes', '30', '[14][42]'], ['Android 12', '12', 'TBA', 'Presupported', '31', '[14][43]']]\n"
     ]
    }
   ],
   "source": [
    "print(table_data)"
   ]
  },
  {
   "source": [],
   "cell_type": "markdown",
   "metadata": {}
  },
  {
   "source": [
    "- HOW TO CONVERT IN CSV FILE of this data"
   ],
   "cell_type": "markdown",
   "metadata": {}
  },
  {
   "source": [],
   "cell_type": "markdown",
   "metadata": {}
  },
  {
   "cell_type": "code",
   "execution_count": 36,
   "metadata": {},
   "outputs": [],
   "source": [
    "import pandas as pd\n"
   ]
  },
  {
   "cell_type": "code",
   "execution_count": 37,
   "metadata": {},
   "outputs": [],
   "source": [
    "df=pd.DataFrame(table_data)"
   ]
  },
  {
   "cell_type": "code",
   "execution_count": 38,
   "metadata": {},
   "outputs": [
    {
     "output_type": "execute_result",
     "data": {
      "text/plain": [
       "                       0                  1                           2  \\\n",
       "0                   Name  Version number(s)  Initial stablerelease date   \n",
       "1   No official codename                1.0          September 23: 2008   \n",
       "2                    1.1   February 9: 2009                          No   \n",
       "3                Cupcake                1.5              April 27: 2009   \n",
       "4                  Donut                1.6          September 15: 2009   \n",
       "5                 Eclair                2.0            October 27: 2009   \n",
       "6                  2.0.1   December 3: 2009                          No   \n",
       "7                    2.1   January 11: 2010                          No   \n",
       "8                  Froyo        2.2 – 2.2.3                May 20: 2010   \n",
       "9            Gingerbread        2.3 – 2.3.2            December 6: 2010   \n",
       "10         2.3.3 - 2.3.7   February 9: 2011                          No   \n",
       "11             Honeycomb                3.0           February 22: 2011   \n",
       "12                   3.1       May 10: 2011                          No   \n",
       "13           3.2 - 3.2.6      July 15: 2011                          No   \n",
       "14    Ice Cream Sandwich        4.0 – 4.0.2            October 18: 2011   \n",
       "15         4.0.3 - 4.0.4  December 16: 2011                          No   \n",
       "16            Jelly Bean        4.1 – 4.1.2                July 9: 2012   \n",
       "17           4.2 - 4.2.2  November 13: 2012                          No   \n",
       "18           4.3 - 4.3.1      July 24: 2013                          No   \n",
       "19                KitKat        4.4 – 4.4.4            October 31: 2013   \n",
       "\n",
       "                            3            4             5  \n",
       "0   Supported(security fixes)    API level    References  \n",
       "1                          No            1       [9][14]  \n",
       "2                           2  [9][14][15]          None  \n",
       "3                          No            3      [14][16]  \n",
       "4                          No            4      [14][17]  \n",
       "5                          No            5  [14][18][19]  \n",
       "6                           6         None          None  \n",
       "7                           7         [20]          None  \n",
       "8                          No            8      [14][21]  \n",
       "9                          No            9      [14][22]  \n",
       "10                         10         None          None  \n",
       "11                         No           11      [14][23]  \n",
       "12                         12         None          None  \n",
       "13                         13         None          None  \n",
       "14                         No           14      [14][24]  \n",
       "15                         15         None          None  \n",
       "16                         No           16      [14][25]  \n",
       "17                         17         None          None  \n",
       "18                         18         None          None  \n",
       "19                         No           19      [14][26]  "
      ],
      "text/html": "<div>\n<style scoped>\n    .dataframe tbody tr th:only-of-type {\n        vertical-align: middle;\n    }\n\n    .dataframe tbody tr th {\n        vertical-align: top;\n    }\n\n    .dataframe thead th {\n        text-align: right;\n    }\n</style>\n<table border=\"1\" class=\"dataframe\">\n  <thead>\n    <tr style=\"text-align: right;\">\n      <th></th>\n      <th>0</th>\n      <th>1</th>\n      <th>2</th>\n      <th>3</th>\n      <th>4</th>\n      <th>5</th>\n    </tr>\n  </thead>\n  <tbody>\n    <tr>\n      <th>0</th>\n      <td>Name</td>\n      <td>Version number(s)</td>\n      <td>Initial stablerelease date</td>\n      <td>Supported(security fixes)</td>\n      <td>API level</td>\n      <td>References</td>\n    </tr>\n    <tr>\n      <th>1</th>\n      <td>No official codename</td>\n      <td>1.0</td>\n      <td>September 23: 2008</td>\n      <td>No</td>\n      <td>1</td>\n      <td>[9][14]</td>\n    </tr>\n    <tr>\n      <th>2</th>\n      <td>1.1</td>\n      <td>February 9: 2009</td>\n      <td>No</td>\n      <td>2</td>\n      <td>[9][14][15]</td>\n      <td>None</td>\n    </tr>\n    <tr>\n      <th>3</th>\n      <td>Cupcake</td>\n      <td>1.5</td>\n      <td>April 27: 2009</td>\n      <td>No</td>\n      <td>3</td>\n      <td>[14][16]</td>\n    </tr>\n    <tr>\n      <th>4</th>\n      <td>Donut</td>\n      <td>1.6</td>\n      <td>September 15: 2009</td>\n      <td>No</td>\n      <td>4</td>\n      <td>[14][17]</td>\n    </tr>\n    <tr>\n      <th>5</th>\n      <td>Eclair</td>\n      <td>2.0</td>\n      <td>October 27: 2009</td>\n      <td>No</td>\n      <td>5</td>\n      <td>[14][18][19]</td>\n    </tr>\n    <tr>\n      <th>6</th>\n      <td>2.0.1</td>\n      <td>December 3: 2009</td>\n      <td>No</td>\n      <td>6</td>\n      <td>None</td>\n      <td>None</td>\n    </tr>\n    <tr>\n      <th>7</th>\n      <td>2.1</td>\n      <td>January 11: 2010</td>\n      <td>No</td>\n      <td>7</td>\n      <td>[20]</td>\n      <td>None</td>\n    </tr>\n    <tr>\n      <th>8</th>\n      <td>Froyo</td>\n      <td>2.2 – 2.2.3</td>\n      <td>May 20: 2010</td>\n      <td>No</td>\n      <td>8</td>\n      <td>[14][21]</td>\n    </tr>\n    <tr>\n      <th>9</th>\n      <td>Gingerbread</td>\n      <td>2.3 – 2.3.2</td>\n      <td>December 6: 2010</td>\n      <td>No</td>\n      <td>9</td>\n      <td>[14][22]</td>\n    </tr>\n    <tr>\n      <th>10</th>\n      <td>2.3.3 - 2.3.7</td>\n      <td>February 9: 2011</td>\n      <td>No</td>\n      <td>10</td>\n      <td>None</td>\n      <td>None</td>\n    </tr>\n    <tr>\n      <th>11</th>\n      <td>Honeycomb</td>\n      <td>3.0</td>\n      <td>February 22: 2011</td>\n      <td>No</td>\n      <td>11</td>\n      <td>[14][23]</td>\n    </tr>\n    <tr>\n      <th>12</th>\n      <td>3.1</td>\n      <td>May 10: 2011</td>\n      <td>No</td>\n      <td>12</td>\n      <td>None</td>\n      <td>None</td>\n    </tr>\n    <tr>\n      <th>13</th>\n      <td>3.2 - 3.2.6</td>\n      <td>July 15: 2011</td>\n      <td>No</td>\n      <td>13</td>\n      <td>None</td>\n      <td>None</td>\n    </tr>\n    <tr>\n      <th>14</th>\n      <td>Ice Cream Sandwich</td>\n      <td>4.0 – 4.0.2</td>\n      <td>October 18: 2011</td>\n      <td>No</td>\n      <td>14</td>\n      <td>[14][24]</td>\n    </tr>\n    <tr>\n      <th>15</th>\n      <td>4.0.3 - 4.0.4</td>\n      <td>December 16: 2011</td>\n      <td>No</td>\n      <td>15</td>\n      <td>None</td>\n      <td>None</td>\n    </tr>\n    <tr>\n      <th>16</th>\n      <td>Jelly Bean</td>\n      <td>4.1 – 4.1.2</td>\n      <td>July 9: 2012</td>\n      <td>No</td>\n      <td>16</td>\n      <td>[14][25]</td>\n    </tr>\n    <tr>\n      <th>17</th>\n      <td>4.2 - 4.2.2</td>\n      <td>November 13: 2012</td>\n      <td>No</td>\n      <td>17</td>\n      <td>None</td>\n      <td>None</td>\n    </tr>\n    <tr>\n      <th>18</th>\n      <td>4.3 - 4.3.1</td>\n      <td>July 24: 2013</td>\n      <td>No</td>\n      <td>18</td>\n      <td>None</td>\n      <td>None</td>\n    </tr>\n    <tr>\n      <th>19</th>\n      <td>KitKat</td>\n      <td>4.4 – 4.4.4</td>\n      <td>October 31: 2013</td>\n      <td>No</td>\n      <td>19</td>\n      <td>[14][26]</td>\n    </tr>\n  </tbody>\n</table>\n</div>"
     },
     "metadata": {},
     "execution_count": 38
    }
   ],
   "source": [
    "df.head(n=20)"
   ]
  },
  {
   "cell_type": "code",
   "execution_count": 39,
   "metadata": {},
   "outputs": [],
   "source": [
    "df.to_csv('android_version_history.csv')"
   ]
  },
  {
   "cell_type": "code",
   "execution_count": 40,
   "metadata": {},
   "outputs": [],
   "source": [
    "filename='android_version_history.csv'\n",
    "\n",
    "with open(filename,'w') as f:\n",
    "\n",
    "     header_string=','.join(column_titles)\n",
    "     header_string+='\\n'\n",
    "     f.write(header_string)\n",
    "     i=0 \n",
    "     for row in table_data[1:]:\n",
    "         row_string=''\n",
    "         \n",
    "         \n",
    "         row_string=','.join(row)\n",
    "         row_string+='\\n'\n",
    "         if ord(row_string[0])<48 or ord(row_string[0])>57:\n",
    "            f.write(row_string)\n",
    "            i+=1\n",
    "         else:\n",
    "            j=i\n",
    "            while ord(table_data[j][0][0])>=48 and ord(table_data[j][0][0])<=57:\n",
    "               j-=1\n",
    "            new=table_data[j][0]+','+(row_string)\n",
    "            i+=1\n",
    "            f.write(new)"
   ]
  },
  {
   "cell_type": "code",
   "execution_count": 41,
   "metadata": {},
   "outputs": [
    {
     "output_type": "execute_result",
     "data": {
      "text/plain": [
       "                    Name Version number(s) Initial stablerelease date  \\\n",
       "0   No official codename               1.0         September 23: 2008   \n",
       "1   No official codename               1.1           February 9: 2009   \n",
       "2                Cupcake               1.5             April 27: 2009   \n",
       "3                  Donut               1.6         September 15: 2009   \n",
       "4                 Eclair               2.0           October 27: 2009   \n",
       "5                 Eclair             2.0.1           December 3: 2009   \n",
       "6                 Eclair               2.1           January 11: 2010   \n",
       "7                  Froyo       2.2  2.2.3               May 20: 2010   \n",
       "8            Gingerbread       2.3  2.3.2           December 6: 2010   \n",
       "9            Gingerbread     2.3.3 - 2.3.7           February 9: 2011   \n",
       "10             Honeycomb               3.0          February 22: 2011   \n",
       "11             Honeycomb               3.1               May 10: 2011   \n",
       "12             Honeycomb       3.2 - 3.2.6              July 15: 2011   \n",
       "13    Ice Cream Sandwich       4.0  4.0.2           October 18: 2011   \n",
       "14    Ice Cream Sandwich     4.0.3 - 4.0.4          December 16: 2011   \n",
       "15            Jelly Bean       4.1  4.1.2               July 9: 2012   \n",
       "16            Jelly Bean       4.2 - 4.2.2          November 13: 2012   \n",
       "17            Jelly Bean       4.3 - 4.3.1              July 24: 2013   \n",
       "18                KitKat       4.4  4.4.4           October 31: 2013   \n",
       "19                KitKat     4.4W - 4.4W.2              June 25: 2014   \n",
       "20              Lollipop       5.0  5.0.2           November 4: 2014   \n",
       "21              Lollipop       5.1 - 5.1.1              March 2: 2015   \n",
       "22           Marshmallow       6.0  6.0.1            October 2: 2015   \n",
       "23                Nougat               7.0            August 22: 2016   \n",
       "24                Nougat       7.1 - 7.1.2            October 4: 2016   \n",
       "25                  Oreo               8.0            August 21: 2017   \n",
       "26                  Oreo               8.1           December 5: 2017   \n",
       "27                   Pie                 9           December 4: 2018   \n",
       "28            Android 10                10          September 7: 2019   \n",
       "29            Android 11                11          September 8: 2020   \n",
       "\n",
       "   Supported(security fixes)  API level            References  \n",
       "0                         No          1               [9][14]  \n",
       "1                         No          2           [9][14][15]  \n",
       "2                         No          3              [14][16]  \n",
       "3                         No          4              [14][17]  \n",
       "4                         No          5          [14][18][19]  \n",
       "5                         No          6                   NaN  \n",
       "6                         No          7                  [20]  \n",
       "7                         No          8              [14][21]  \n",
       "8                         No          9              [14][22]  \n",
       "9                         No         10                   NaN  \n",
       "10                        No         11              [14][23]  \n",
       "11                        No         12                   NaN  \n",
       "12                        No         13                   NaN  \n",
       "13                        No         14              [14][24]  \n",
       "14                        No         15                   NaN  \n",
       "15                        No         16              [14][25]  \n",
       "16                        No         17                   NaN  \n",
       "17                        No         18                   NaN  \n",
       "18                        No         19              [14][26]  \n",
       "19                        No         20                   NaN  \n",
       "20                        No         21          [14][27][28]  \n",
       "21                        No         22                  [29]  \n",
       "22                        No         23          [14][30][31]  \n",
       "23                        No         24  [14][32][33][34][35]  \n",
       "24                        No         25                   NaN  \n",
       "25                        No         26          [14][36][37]  \n",
       "26                    Yes[a]         27              [14][38]  \n",
       "27                       Yes         28              [14][39]  \n",
       "28                       Yes         29          [14][40][41]  \n",
       "29                       Yes         30              [14][42]  "
      ],
      "text/html": "<div>\n<style scoped>\n    .dataframe tbody tr th:only-of-type {\n        vertical-align: middle;\n    }\n\n    .dataframe tbody tr th {\n        vertical-align: top;\n    }\n\n    .dataframe thead th {\n        text-align: right;\n    }\n</style>\n<table border=\"1\" class=\"dataframe\">\n  <thead>\n    <tr style=\"text-align: right;\">\n      <th></th>\n      <th>Name</th>\n      <th>Version number(s)</th>\n      <th>Initial stablerelease date</th>\n      <th>Supported(security fixes)</th>\n      <th>API level</th>\n      <th>References</th>\n    </tr>\n  </thead>\n  <tbody>\n    <tr>\n      <th>0</th>\n      <td>No official codename</td>\n      <td>1.0</td>\n      <td>September 23: 2008</td>\n      <td>No</td>\n      <td>1</td>\n      <td>[9][14]</td>\n    </tr>\n    <tr>\n      <th>1</th>\n      <td>No official codename</td>\n      <td>1.1</td>\n      <td>February 9: 2009</td>\n      <td>No</td>\n      <td>2</td>\n      <td>[9][14][15]</td>\n    </tr>\n    <tr>\n      <th>2</th>\n      <td>Cupcake</td>\n      <td>1.5</td>\n      <td>April 27: 2009</td>\n      <td>No</td>\n      <td>3</td>\n      <td>[14][16]</td>\n    </tr>\n    <tr>\n      <th>3</th>\n      <td>Donut</td>\n      <td>1.6</td>\n      <td>September 15: 2009</td>\n      <td>No</td>\n      <td>4</td>\n      <td>[14][17]</td>\n    </tr>\n    <tr>\n      <th>4</th>\n      <td>Eclair</td>\n      <td>2.0</td>\n      <td>October 27: 2009</td>\n      <td>No</td>\n      <td>5</td>\n      <td>[14][18][19]</td>\n    </tr>\n    <tr>\n      <th>5</th>\n      <td>Eclair</td>\n      <td>2.0.1</td>\n      <td>December 3: 2009</td>\n      <td>No</td>\n      <td>6</td>\n      <td>NaN</td>\n    </tr>\n    <tr>\n      <th>6</th>\n      <td>Eclair</td>\n      <td>2.1</td>\n      <td>January 11: 2010</td>\n      <td>No</td>\n      <td>7</td>\n      <td>[20]</td>\n    </tr>\n    <tr>\n      <th>7</th>\n      <td>Froyo</td>\n      <td>2.2  2.2.3</td>\n      <td>May 20: 2010</td>\n      <td>No</td>\n      <td>8</td>\n      <td>[14][21]</td>\n    </tr>\n    <tr>\n      <th>8</th>\n      <td>Gingerbread</td>\n      <td>2.3  2.3.2</td>\n      <td>December 6: 2010</td>\n      <td>No</td>\n      <td>9</td>\n      <td>[14][22]</td>\n    </tr>\n    <tr>\n      <th>9</th>\n      <td>Gingerbread</td>\n      <td>2.3.3 - 2.3.7</td>\n      <td>February 9: 2011</td>\n      <td>No</td>\n      <td>10</td>\n      <td>NaN</td>\n    </tr>\n    <tr>\n      <th>10</th>\n      <td>Honeycomb</td>\n      <td>3.0</td>\n      <td>February 22: 2011</td>\n      <td>No</td>\n      <td>11</td>\n      <td>[14][23]</td>\n    </tr>\n    <tr>\n      <th>11</th>\n      <td>Honeycomb</td>\n      <td>3.1</td>\n      <td>May 10: 2011</td>\n      <td>No</td>\n      <td>12</td>\n      <td>NaN</td>\n    </tr>\n    <tr>\n      <th>12</th>\n      <td>Honeycomb</td>\n      <td>3.2 - 3.2.6</td>\n      <td>July 15: 2011</td>\n      <td>No</td>\n      <td>13</td>\n      <td>NaN</td>\n    </tr>\n    <tr>\n      <th>13</th>\n      <td>Ice Cream Sandwich</td>\n      <td>4.0  4.0.2</td>\n      <td>October 18: 2011</td>\n      <td>No</td>\n      <td>14</td>\n      <td>[14][24]</td>\n    </tr>\n    <tr>\n      <th>14</th>\n      <td>Ice Cream Sandwich</td>\n      <td>4.0.3 - 4.0.4</td>\n      <td>December 16: 2011</td>\n      <td>No</td>\n      <td>15</td>\n      <td>NaN</td>\n    </tr>\n    <tr>\n      <th>15</th>\n      <td>Jelly Bean</td>\n      <td>4.1  4.1.2</td>\n      <td>July 9: 2012</td>\n      <td>No</td>\n      <td>16</td>\n      <td>[14][25]</td>\n    </tr>\n    <tr>\n      <th>16</th>\n      <td>Jelly Bean</td>\n      <td>4.2 - 4.2.2</td>\n      <td>November 13: 2012</td>\n      <td>No</td>\n      <td>17</td>\n      <td>NaN</td>\n    </tr>\n    <tr>\n      <th>17</th>\n      <td>Jelly Bean</td>\n      <td>4.3 - 4.3.1</td>\n      <td>July 24: 2013</td>\n      <td>No</td>\n      <td>18</td>\n      <td>NaN</td>\n    </tr>\n    <tr>\n      <th>18</th>\n      <td>KitKat</td>\n      <td>4.4  4.4.4</td>\n      <td>October 31: 2013</td>\n      <td>No</td>\n      <td>19</td>\n      <td>[14][26]</td>\n    </tr>\n    <tr>\n      <th>19</th>\n      <td>KitKat</td>\n      <td>4.4W - 4.4W.2</td>\n      <td>June 25: 2014</td>\n      <td>No</td>\n      <td>20</td>\n      <td>NaN</td>\n    </tr>\n    <tr>\n      <th>20</th>\n      <td>Lollipop</td>\n      <td>5.0  5.0.2</td>\n      <td>November 4: 2014</td>\n      <td>No</td>\n      <td>21</td>\n      <td>[14][27][28]</td>\n    </tr>\n    <tr>\n      <th>21</th>\n      <td>Lollipop</td>\n      <td>5.1 - 5.1.1</td>\n      <td>March 2: 2015</td>\n      <td>No</td>\n      <td>22</td>\n      <td>[29]</td>\n    </tr>\n    <tr>\n      <th>22</th>\n      <td>Marshmallow</td>\n      <td>6.0  6.0.1</td>\n      <td>October 2: 2015</td>\n      <td>No</td>\n      <td>23</td>\n      <td>[14][30][31]</td>\n    </tr>\n    <tr>\n      <th>23</th>\n      <td>Nougat</td>\n      <td>7.0</td>\n      <td>August 22: 2016</td>\n      <td>No</td>\n      <td>24</td>\n      <td>[14][32][33][34][35]</td>\n    </tr>\n    <tr>\n      <th>24</th>\n      <td>Nougat</td>\n      <td>7.1 - 7.1.2</td>\n      <td>October 4: 2016</td>\n      <td>No</td>\n      <td>25</td>\n      <td>NaN</td>\n    </tr>\n    <tr>\n      <th>25</th>\n      <td>Oreo</td>\n      <td>8.0</td>\n      <td>August 21: 2017</td>\n      <td>No</td>\n      <td>26</td>\n      <td>[14][36][37]</td>\n    </tr>\n    <tr>\n      <th>26</th>\n      <td>Oreo</td>\n      <td>8.1</td>\n      <td>December 5: 2017</td>\n      <td>Yes[a]</td>\n      <td>27</td>\n      <td>[14][38]</td>\n    </tr>\n    <tr>\n      <th>27</th>\n      <td>Pie</td>\n      <td>9</td>\n      <td>December 4: 2018</td>\n      <td>Yes</td>\n      <td>28</td>\n      <td>[14][39]</td>\n    </tr>\n    <tr>\n      <th>28</th>\n      <td>Android 10</td>\n      <td>10</td>\n      <td>September 7: 2019</td>\n      <td>Yes</td>\n      <td>29</td>\n      <td>[14][40][41]</td>\n    </tr>\n    <tr>\n      <th>29</th>\n      <td>Android 11</td>\n      <td>11</td>\n      <td>September 8: 2020</td>\n      <td>Yes</td>\n      <td>30</td>\n      <td>[14][42]</td>\n    </tr>\n  </tbody>\n</table>\n</div>"
     },
     "metadata": {},
     "execution_count": 41
    }
   ],
   "source": [
    "df=pd.read_csv('android_version_history.csv',',',encoding ='latin1')\n",
    "df.head(n=30)"
   ]
  },
  {
   "cell_type": "code",
   "execution_count": 42,
   "metadata": {},
   "outputs": [],
   "source": [
    "localFile='Android version history.html'"
   ]
  },
  {
   "cell_type": "code",
   "execution_count": 54,
   "metadata": {},
   "outputs": [
    {
     "output_type": "stream",
     "name": "stdout",
     "text": [
      "\n"
     ]
    }
   ],
   "source": [
    "with open(localFile,encoding='utf-8') as f:\n",
    "    print()\n",
    "    localPage=soup(f,'html.parser')"
   ]
  },
  {
   "cell_type": "code",
   "execution_count": 55,
   "metadata": {},
   "outputs": [
    {
     "output_type": "execute_result",
     "data": {
      "text/plain": [
       "[<h1 class=\"firstHeading\" id=\"firstHeading\">Android version history</h1>]"
      ]
     },
     "metadata": {},
     "execution_count": 55
    }
   ],
   "source": [
    "localPage.find_all('h1')"
   ]
  },
  {
   "cell_type": "code",
   "execution_count": null,
   "metadata": {},
   "outputs": [],
   "source": []
  },
  {
   "cell_type": "code",
   "execution_count": null,
   "metadata": {},
   "outputs": [],
   "source": []
  },
  {
   "cell_type": "code",
   "execution_count": null,
   "metadata": {},
   "outputs": [],
   "source": []
  },
  {
   "cell_type": "code",
   "execution_count": null,
   "metadata": {},
   "outputs": [],
   "source": []
  },
  {
   "cell_type": "code",
   "execution_count": null,
   "metadata": {},
   "outputs": [],
   "source": []
  },
  {
   "cell_type": "code",
   "execution_count": null,
   "metadata": {},
   "outputs": [],
   "source": []
  },
  {
   "cell_type": "code",
   "execution_count": null,
   "metadata": {},
   "outputs": [],
   "source": []
  },
  {
   "cell_type": "code",
   "execution_count": null,
   "metadata": {},
   "outputs": [],
   "source": []
  },
  {
   "cell_type": "code",
   "execution_count": null,
   "metadata": {},
   "outputs": [],
   "source": []
  },
  {
   "cell_type": "code",
   "execution_count": null,
   "metadata": {},
   "outputs": [],
   "source": []
  },
  {
   "cell_type": "code",
   "execution_count": null,
   "metadata": {},
   "outputs": [],
   "source": []
  },
  {
   "cell_type": "code",
   "execution_count": null,
   "metadata": {},
   "outputs": [],
   "source": []
  },
  {
   "cell_type": "code",
   "execution_count": null,
   "metadata": {},
   "outputs": [],
   "source": []
  },
  {
   "cell_type": "code",
   "execution_count": null,
   "metadata": {},
   "outputs": [],
   "source": []
  },
  {
   "cell_type": "code",
   "execution_count": null,
   "metadata": {},
   "outputs": [],
   "source": []
  }
 ]
}